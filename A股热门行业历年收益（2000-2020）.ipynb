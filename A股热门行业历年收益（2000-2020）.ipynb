{
 "cells": [
  {
   "cell_type": "code",
   "execution_count": 1,
   "metadata": {
    "pycharm": {
     "is_executing": false,
     "name": "#%%\n"
    }
   },
   "outputs": [
    {
     "name": "stdout",
     "text": [
      "Welcome to use Wind Quant API for Python (WindPy)!\n",
      "\n",
      "COPYRIGHT (C) 2017 WIND INFORMATION CO., LTD. ALL RIGHTS RESERVED.\n",
      "IN NO CIRCUMSTANCE SHALL WIND BE RESPONSIBLE FOR ANY DAMAGES OR LOSSES CAUSED BY USING WIND QUANT API FOR Python.\n"
     ],
     "output_type": "stream"
    },
    {
     "data": {
      "text/plain": "True"
     },
     "metadata": {},
     "output_type": "execute_result",
     "execution_count": 1
    }
   ],
   "source": [
    "from WindPy import *\n",
    "\n",
    "w.start()\n",
    "\n",
    "import pandas as pd\n",
    "from datetime import datetime\n",
    "\n",
    "w.isconnected()\n"
   ]
  },
  {
   "cell_type": "code",
   "execution_count": 2,
   "metadata": {
    "pycharm": {
     "is_executing": false,
     "name": "#%%\n"
    }
   },
   "outputs": [],
   "source": [
    "startdate = \"2000-01-01\"\n",
    "enddate = (datetime.now() - timedelta(1)).strftime('%Y-%m-%d')\n",
    "error, data = w.wsd(\"801780.SI,801120.SI,801010.SI,801050.SI,801150.SI,801180.SI,801740.SI,801750.SI,801760.SI,801770.SI,801790.SI\", \"pct_chg\", startdate, enddate, \"Period=Y;TradingCalendar=SZSE\", usedf=True)\n",
    "data.columns = ['银行', '食品饮料', '农林牧渔', '有色金属', '医药生物', '房地产', '国防军工', '计算机', '传媒', '通信', '非银行金融']\n",
    "data.index = [str(i.year) for i in data.index]"
   ]
  },
  {
   "cell_type": "code",
   "execution_count": 3,
   "metadata": {
    "pycharm": {
     "is_executing": false,
     "name": "#%%\n"
    }
   },
   "outputs": [],
   "source": [
    "data = data.round(2)\n",
    "data = data.apply(lambda a: pd.Series(['{}\\n{}%'.format(i,j) for i,j in a.sort_values(ascending=False).items()]), axis=1)"
   ]
  },
  {
   "cell_type": "code",
   "execution_count": 4,
   "metadata": {
    "pycharm": {
     "is_executing": false,
     "name": "#%%\n"
    }
   },
   "outputs": [],
   "source": [
    "import matplotlib.pyplot as plt\n",
    "plt.style.use('seaborn-white')\n",
    "plt.rcParams['font.sans-serif'] = ['SimHei']\n",
    "plt.rcParams['axes.unicode_minus'] = False"
   ]
  },
  {
   "cell_type": "code",
   "execution_count": 5,
   "metadata": {
    "pycharm": {
     "is_executing": false,
     "name": "#%%\n"
    }
   },
   "outputs": [],
   "source": [
    "import re\n",
    "colors = ['#fd9e9a', '#e95e35','#31b271', '#ffcd22','#4672d5','#16aec6','#404040','#3b4aff','#2053a6','#e12f23','#dd9f10']\n",
    "furtures = ['银行','食品饮料','农林牧渔','有色金属','医药生物','房地产','国防军工','计算机','传媒','通信','非银行金融']\n",
    "colors_dic = dict(zip(furtures, colors ))\n",
    "colors_df = data.apply(lambda a: pd.Series([colors_dic[re.sub('[0-9\\.\\-\\%\\\\n]', '', i)] for i in a]),axis = 1)"
   ]
  },
  {
   "cell_type": "code",
   "execution_count": 6,
   "metadata": {
    "pycharm": {
     "is_executing": false,
     "name": "#%%\n"
    }
   },
   "outputs": [],
   "source": [
    "plt.rcParams['text.color'] = 'white'\n",
    "fig, ax = plt.subplots(figsize=(10, 13), dpi=120)\n",
    "ax.set_axis_off()\n",
    "table = ax.table(cellText = data.values, bbox=(0, 0, 1, 1), rowLabels = data.index, rowLoc = 'center', \n",
    "                 cellLoc = 'center', rowColours = ['#8c8c8c']*len(data.index), cellColours = colors_df.values)\n",
    "table.set_fontsize(15)\n",
    "\n",
    "ax.set_title('A股热门行业历年收益（2000-2020）', loc='center', pad=25, fontsize=20, color='black')\n",
    "\n",
    "ax.text(-0.04,-0.04, '数据来源：Wind 编辑：Zach XIANG 数据截止日期：2020-04-05', fontsize=13, alpha=0.5, ha='left', va='bottom', color='#5a5a5a')\n",
    "\n",
    "fig.tight_layout()\n",
    "        \n",
    "plt.savefig(\"A股热门行业历年收益（2000-2020）.png\")"
   ]
  }
 ],
 "metadata": {
  "kernelspec": {
   "display_name": "Python 3",
   "language": "python",
   "name": "python3"
  },
  "language_info": {
   "codemirror_mode": {
    "name": "ipython",
    "version": 3
   },
   "file_extension": ".py",
   "mimetype": "text/x-python",
   "name": "python",
   "nbconvert_exporter": "python",
   "pygments_lexer": "ipython3",
   "version": "3.7.4"
  },
  "pycharm": {
   "stem_cell": {
    "cell_type": "raw",
    "metadata": {
     "collapsed": false
    },
    "source": []
   }
  }
 },
 "nbformat": 4,
 "nbformat_minor": 1
}